{
 "cells": [
  {
   "cell_type": "markdown",
   "id": "fccd1578",
   "metadata": {},
   "source": [
    "# Advanced Classification Predict\n",
    "\n",
    "©  Explore Data Science Academy\n",
    "\n",
    "---\n",
    "\n",
    "### Honour Code\n",
    "\n",
    "I **EDSA-Team_8**, confirm - by submitting this document - that the solutions in this notebook are a result of my own work and that I abide by the [EDSA honour code](https://drive.google.com/file/d/1QDCjGZJ8-FmJE3bZdIQNwnJyQKPhHZBn/view?usp=sharing).\n",
    "\n",
    "Non-compliance with the honour code constitutes a material breach of contract.\n",
    "\n",
    "### Predict Overview: Climate Change Belief Analysis 2022\n",
    "Many companies are built around lessening one’s environmental impact or carbon footprint. They offer products and services that are environmentally friendly and sustainable, in line with their values and ideals. They would like to determine how people perceive climate change and whether or not they believe it is a real threat. This would add to their market research efforts in gauging how their product/service may be received, Your company has been awarded the contract to:\n",
    "\n",
    "- 1. analyse the supplied data;\n",
    "- 2. identify potential errors in the data and clean the existing data set;\n",
    "- 3. determine if additional features can be added to enrich the data set;\n",
    "- 4. build a model that is capable of forecasting the three hourly demand shortfalls;\n",
    "- 5. evaluate the accuracy of the best machine learning model;\n",
    "- 6. determine what features were most important in the model’s prediction decision, and\n",
    "- 7. explain the inner working of the model to a non-technical audience.\n"
   ]
  },
  {
   "cell_type": "markdown",
   "id": "68e24616",
   "metadata": {},
   "source": [
    "<a id=\"cont\"></a>\n",
    "\n",
    "## Table of Contents\n",
    "\n",
    "<a href=#one>1. Importing Packages</a>\n",
    "\n",
    "<a href=#two>2. Loading Data</a>\n",
    "\n",
    "<a href=#three>3. Exploratory Data Analysis (EDA)</a>\n",
    "\n",
    "<a href=#four>4. Data Engineering</a>\n",
    "\n",
    "<a href=#five>5. Modeling</a>\n",
    "\n",
    "<a href=#six>6. Model Performance</a>\n",
    "\n",
    "<a href=#seven>7. Model Explanations</a>"
   ]
  },
  {
   "cell_type": "markdown",
   "id": "b3d6b8ad",
   "metadata": {},
   "source": [
    " <a id=\"one\"></a>\n",
    "## 1. Importing Packages\n",
    "<a href=#cont>Back to Table of Contents</a>\n",
    "\n",
    "---\n",
    "    \n",
    "| ⚡ Description: Importing Packages ⚡ |\n",
    "| :--------------------------- |\n",
    "| In this section the required packages are imported, and briefly discuss, the libraries that will be used throughout the analysis and modelling. |"
   ]
  },
  {
   "cell_type": "code",
   "execution_count": 1,
   "id": "d846a0f8",
   "metadata": {},
   "outputs": [],
   "source": [
    "#importing the required libraries\n",
    "# Libraries for data loading, data manipulation and data visulisation\n",
    "import numpy as np\n",
    "import pandas as pd\n",
    "import matplotlib.pyplot as plt\n",
    "import seaborn as sns\n",
    "%matplotlib inline\n",
    "import sklearn\n",
    "from sklearn import preprocessing\n",
    "from sklearn.linear_model import LogisticRegression\n",
    "from sklearn.model_selection import train_test_split\n",
    "from sklearn import metrics \n",
    "from sklearn.metrics import classification_report\n",
    "import re\n",
    "\n",
    "import nltk\n",
    "# Customise our plotting settings\n",
    "sns.set_style('whitegrid')\n",
    "#Libraries for data preparation and model building\n",
    "\n",
    "# Setting global constants to ensure notebook results are reproducible"
   ]
  },
  {
   "cell_type": "markdown",
   "id": "a16e5861",
   "metadata": {},
   "source": [
    " <a id=\"two\"></a>\n",
    "## 2. Loading Data\n",
    "<a href=#cont>Back to Table of Contents</a>"
   ]
  },
  {
   "cell_type": "markdown",
   "id": "db3f8f41",
   "metadata": {},
   "source": [
    "We frist start by loading in our dataset, both the `training` and `testing` dataset is loaded as a pandas dataframe"
   ]
  },
  {
   "cell_type": "code",
   "execution_count": 2,
   "id": "4e3e201c",
   "metadata": {},
   "outputs": [],
   "source": [
    "#load the training and test data set\n",
    "train = pd.read_csv('train.csv')\n",
    "test = pd.read_csv('test.csv')"
   ]
  },
  {
   "cell_type": "markdown",
   "id": "f12599cf",
   "metadata": {},
   "source": [
    " <a id=\"three\"></a>\n",
    "## 3. Exploratory Data Analysis (EDA)\n",
    "<a href=#cont>Back to Table of Contents</a>"
   ]
  },
  {
   "cell_type": "markdown",
   "id": "8ce9f8ce",
   "metadata": {},
   "source": [
    "**Exploratory Data Analysis (EDA) :**  After loading in our dataset we first start with the vital component **EDA** to better understand the dataset we are working with and, to gain insight about the `features` and `labels` by performing `Univariate` or `Multivariate` , `Non-graphical` or `Graphical` Analysis\""
   ]
  },
  {
   "cell_type": "markdown",
   "id": "ce9a2606",
   "metadata": {},
   "source": [
    "We take a look quick look at the first few rows of the `training` and `testing` dataset to have an overview of our features and labels, (using `pd.head()` method)"
   ]
  },
  {
   "cell_type": "code",
   "execution_count": 3,
   "id": "bd201e76",
   "metadata": {},
   "outputs": [
    {
     "data": {
      "text/html": [
       "<div>\n",
       "<style scoped>\n",
       "    .dataframe tbody tr th:only-of-type {\n",
       "        vertical-align: middle;\n",
       "    }\n",
       "\n",
       "    .dataframe tbody tr th {\n",
       "        vertical-align: top;\n",
       "    }\n",
       "\n",
       "    .dataframe thead th {\n",
       "        text-align: right;\n",
       "    }\n",
       "</style>\n",
       "<table border=\"1\" class=\"dataframe\">\n",
       "  <thead>\n",
       "    <tr style=\"text-align: right;\">\n",
       "      <th></th>\n",
       "      <th>sentiment</th>\n",
       "      <th>message</th>\n",
       "      <th>tweetid</th>\n",
       "    </tr>\n",
       "  </thead>\n",
       "  <tbody>\n",
       "    <tr>\n",
       "      <th>0</th>\n",
       "      <td>1</td>\n",
       "      <td>PolySciMajor EPA chief doesn't think carbon di...</td>\n",
       "      <td>625221</td>\n",
       "    </tr>\n",
       "    <tr>\n",
       "      <th>1</th>\n",
       "      <td>1</td>\n",
       "      <td>It's not like we lack evidence of anthropogeni...</td>\n",
       "      <td>126103</td>\n",
       "    </tr>\n",
       "    <tr>\n",
       "      <th>2</th>\n",
       "      <td>2</td>\n",
       "      <td>RT @RawStory: Researchers say we have three ye...</td>\n",
       "      <td>698562</td>\n",
       "    </tr>\n",
       "    <tr>\n",
       "      <th>3</th>\n",
       "      <td>1</td>\n",
       "      <td>#TodayinMaker# WIRED : 2016 was a pivotal year...</td>\n",
       "      <td>573736</td>\n",
       "    </tr>\n",
       "    <tr>\n",
       "      <th>4</th>\n",
       "      <td>1</td>\n",
       "      <td>RT @SoyNovioDeTodas: It's 2016, and a racist, ...</td>\n",
       "      <td>466954</td>\n",
       "    </tr>\n",
       "  </tbody>\n",
       "</table>\n",
       "</div>"
      ],
      "text/plain": [
       "   sentiment                                            message  tweetid\n",
       "0          1  PolySciMajor EPA chief doesn't think carbon di...   625221\n",
       "1          1  It's not like we lack evidence of anthropogeni...   126103\n",
       "2          2  RT @RawStory: Researchers say we have three ye...   698562\n",
       "3          1  #TodayinMaker# WIRED : 2016 was a pivotal year...   573736\n",
       "4          1  RT @SoyNovioDeTodas: It's 2016, and a racist, ...   466954"
      ]
     },
     "execution_count": 3,
     "metadata": {},
     "output_type": "execute_result"
    }
   ],
   "source": [
    "#The first five columns of the traing dataset\n",
    "train.head()"
   ]
  },
  {
   "cell_type": "markdown",
   "id": "4755a56d",
   "metadata": {},
   "source": [
    "After taking a look at the frist five  rows of the dataFrame we can see that we have `Three (3)` columns in the dataFrame.\n",
    "\n",
    "we have two features and one label\n",
    "\n",
    "features inludes:\n",
    "\n",
    "    - message\n",
    "    - tweetid\n",
    "\n",
    "label:\n",
    "\n",
    "    - sentiment\n",
    "    \n",
    "And the test dataFrame contains only the features"
   ]
  },
  {
   "cell_type": "code",
   "execution_count": 4,
   "id": "5855525b",
   "metadata": {},
   "outputs": [
    {
     "data": {
      "text/html": [
       "<div>\n",
       "<style scoped>\n",
       "    .dataframe tbody tr th:only-of-type {\n",
       "        vertical-align: middle;\n",
       "    }\n",
       "\n",
       "    .dataframe tbody tr th {\n",
       "        vertical-align: top;\n",
       "    }\n",
       "\n",
       "    .dataframe thead th {\n",
       "        text-align: right;\n",
       "    }\n",
       "</style>\n",
       "<table border=\"1\" class=\"dataframe\">\n",
       "  <thead>\n",
       "    <tr style=\"text-align: right;\">\n",
       "      <th></th>\n",
       "      <th>message</th>\n",
       "      <th>tweetid</th>\n",
       "    </tr>\n",
       "  </thead>\n",
       "  <tbody>\n",
       "    <tr>\n",
       "      <th>0</th>\n",
       "      <td>Europe will now be looking to China to make su...</td>\n",
       "      <td>169760</td>\n",
       "    </tr>\n",
       "    <tr>\n",
       "      <th>1</th>\n",
       "      <td>Combine this with the polling of staffers re c...</td>\n",
       "      <td>35326</td>\n",
       "    </tr>\n",
       "    <tr>\n",
       "      <th>2</th>\n",
       "      <td>The scary, unimpeachable evidence that climate...</td>\n",
       "      <td>224985</td>\n",
       "    </tr>\n",
       "    <tr>\n",
       "      <th>3</th>\n",
       "      <td>@Karoli @morgfair @OsborneInk @dailykos \\r\\nPu...</td>\n",
       "      <td>476263</td>\n",
       "    </tr>\n",
       "    <tr>\n",
       "      <th>4</th>\n",
       "      <td>RT @FakeWillMoore: 'Female orgasms cause globa...</td>\n",
       "      <td>872928</td>\n",
       "    </tr>\n",
       "  </tbody>\n",
       "</table>\n",
       "</div>"
      ],
      "text/plain": [
       "                                             message  tweetid\n",
       "0  Europe will now be looking to China to make su...   169760\n",
       "1  Combine this with the polling of staffers re c...    35326\n",
       "2  The scary, unimpeachable evidence that climate...   224985\n",
       "3  @Karoli @morgfair @OsborneInk @dailykos \\r\\nPu...   476263\n",
       "4  RT @FakeWillMoore: 'Female orgasms cause globa...   872928"
      ]
     },
     "execution_count": 4,
     "metadata": {},
     "output_type": "execute_result"
    }
   ],
   "source": [
    "#The first five columns of the test dataset\n",
    "test.head()"
   ]
  },
  {
   "cell_type": "markdown",
   "id": "9dd1af86",
   "metadata": {},
   "source": [
    "we will take a look at the shape of the dataframe to understand the amount of data we are working with, the **rows** and the **columns**"
   ]
  },
  {
   "cell_type": "code",
   "execution_count": 5,
   "id": "2abc509b",
   "metadata": {},
   "outputs": [],
   "source": [
    "train.drop(columns = 'tweetid', inplace = True)\n",
    "test.drop(columns = 'tweetid', inplace = True)\n",
    "\n"
   ]
  },
  {
   "cell_type": "code",
   "execution_count": 6,
   "id": "5d09b8b4",
   "metadata": {},
   "outputs": [
    {
     "data": {
      "text/plain": [
       "(15819, 2)"
      ]
     },
     "execution_count": 6,
     "metadata": {},
     "output_type": "execute_result"
    }
   ],
   "source": [
    "#checking the shape of the traing dataframe\n",
    "train.shape"
   ]
  },
  {
   "cell_type": "markdown",
   "id": "5411bfe3",
   "metadata": {},
   "source": [
    "looking at the shape of the dataframe we have `15819` rows and `3` columns"
   ]
  },
  {
   "cell_type": "markdown",
   "id": "a7ec4779",
   "metadata": {},
   "source": [
    "Next up let's take a look at the data types of the dataFrame using `pd.info()`"
   ]
  },
  {
   "cell_type": "code",
   "execution_count": 7,
   "id": "ff1e0682",
   "metadata": {},
   "outputs": [
    {
     "name": "stdout",
     "output_type": "stream",
     "text": [
      "<class 'pandas.core.frame.DataFrame'>\n",
      "RangeIndex: 15819 entries, 0 to 15818\n",
      "Data columns (total 2 columns):\n",
      " #   Column     Non-Null Count  Dtype \n",
      "---  ------     --------------  ----- \n",
      " 0   sentiment  15819 non-null  int64 \n",
      " 1   message    15819 non-null  object\n",
      "dtypes: int64(1), object(1)\n",
      "memory usage: 247.3+ KB\n"
     ]
    }
   ],
   "source": [
    "#checking the information of the dataframe\n",
    "train.info()"
   ]
  },
  {
   "cell_type": "markdown",
   "id": "d01dfde4",
   "metadata": {},
   "source": [
    "looking at the above output we can see that we have two `int64` and one `object` "
   ]
  },
  {
   "cell_type": "code",
   "execution_count": 8,
   "id": "da41031e",
   "metadata": {},
   "outputs": [
    {
     "data": {
      "text/plain": [
       "sentiment    0\n",
       "message      0\n",
       "dtype: int64"
      ]
     },
     "execution_count": 8,
     "metadata": {},
     "output_type": "execute_result"
    }
   ],
   "source": [
    "#checking null values in the training data\n",
    "train.isnull().sum()"
   ]
  },
  {
   "cell_type": "markdown",
   "id": "dc689f1f",
   "metadata": {},
   "source": [
    "well it shows that we have **0** null values in the training data"
   ]
  },
  {
   "cell_type": "markdown",
   "id": "cadb668e",
   "metadata": {},
   "source": [
    "let's take a closer look on our label `sentiment` "
   ]
  },
  {
   "cell_type": "code",
   "execution_count": 9,
   "id": "0bf65d74",
   "metadata": {},
   "outputs": [
    {
     "data": {
      "text/plain": [
       " 1    8530\n",
       " 2    3640\n",
       " 0    2353\n",
       "-1    1296\n",
       "Name: sentiment, dtype: int64"
      ]
     },
     "execution_count": 9,
     "metadata": {},
     "output_type": "execute_result"
    }
   ],
   "source": [
    "#checking for unique values \n",
    "train['sentiment'].value_counts()"
   ]
  },
  {
   "cell_type": "markdown",
   "id": "9aa80007",
   "metadata": {},
   "source": [
    "Well it looks like we have 4 unique values in our label.\n",
    "\n",
    "Based on the description of the data here is what each value stands for:\n",
    "\n",
    "    1 Pro: the tweet supports the belief of man-made climate change\n",
    "    2 News: the tweet links to factual news about climate change\n",
    "    0 Neutral: the tweet neither supports nor refutes the belief of man-made climate change\n",
    "    -1 Anti: the tweet does not believe in man-made climate change"
   ]
  },
  {
   "cell_type": "markdown",
   "id": "d2eea688",
   "metadata": {},
   "source": [
    "let's count and plot the destribution of each unique value"
   ]
  },
  {
   "cell_type": "code",
   "execution_count": 10,
   "id": "8151da9e",
   "metadata": {},
   "outputs": [
    {
     "data": {
      "image/png": "[encoded data removed]",
      "text/plain": [
       "<Figure size 576x288 with 1 Axes>"
      ]
     },
     "metadata": {},
     "output_type": "display_data"
    }
   ],
   "source": [
    "#ploting the destribution of unique label values\n",
    "f, ax = plt.subplots(figsize=(8, 4))\n",
    "ax = sns.countplot(x=\"sentiment\", data=train)\n",
    "plt.show()"
   ]
  },
  {
   "cell_type": "markdown",
   "id": "895abdd3",
   "metadata": {},
   "source": [
    "**Interpretation**\n",
    "\n",
    "- The above plot comfirms that:\n",
    "\n",
    "`1296` tweets do not believe in man-made climate change `-1`\n",
    "\n",
    "`2353` tweets neither supports nor refutes the belief of man-made climate change `0`\n",
    "\n",
    "`8530` Pro: the tweet supports the belief of man-made climate change `1`\n",
    "\n",
    "`3640` News: the tweet links to factual news about climate change `2`\n",
    "\n",
    "The plot show that the highest propotion of the tweets supports the belife of man-made climate change"
   ]
  },
  {
   "cell_type": "markdown",
   "id": "6b53f83a",
   "metadata": {},
   "source": [
    "Now moving on let's explore our `features` to gain more insight  "
   ]
  },
  {
   "cell_type": "markdown",
   "id": "5ec524eb",
   "metadata": {},
   "source": [
    "Okay it looks like we don't have a value from the `tweetid`column"
   ]
  },
  {
   "cell_type": "markdown",
   "id": "706e47cc",
   "metadata": {},
   "source": [
    "Moving on let's take a closer look into the `message` column which contains the tweets"
   ]
  },
  {
   "cell_type": "code",
   "execution_count": 11,
   "id": "1ec19963",
   "metadata": {},
   "outputs": [
    {
     "data": {
      "text/plain": [
       "0    PolySciMajor EPA chief doesn't think carbon di...\n",
       "1    It's not like we lack evidence of anthropogeni...\n",
       "2    RT @RawStory: Researchers say we have three ye...\n",
       "3    #TodayinMaker# WIRED : 2016 was a pivotal year...\n",
       "4    RT @SoyNovioDeTodas: It's 2016, and a racist, ...\n",
       "Name: message, dtype: object"
      ]
     },
     "execution_count": 11,
     "metadata": {},
     "output_type": "execute_result"
    }
   ],
   "source": [
    "#taking a colser look on the message column\n",
    "train['message'].head()"
   ]
  },
  {
   "cell_type": "markdown",
   "id": "3c7293c8",
   "metadata": {},
   "source": [
    "Well based on what we are seeing the `message` column which contains the tweets has some characters, we need to clean the data"
   ]
  },
  {
   "cell_type": "markdown",
   "id": "76b9598e",
   "metadata": {},
   "source": [
    "**Next setp is Data cleaning**\n",
    "\n",
    "Before applying any ML model to a set of data we need fisrt check our data to see if the data is in the state data we want it to be or do we need clean the data, well our case we need to clean the data moving on we will start the Data cleaning process"
   ]
  },
  {
   "cell_type": "code",
   "execution_count": 12,
   "id": "9402438b",
   "metadata": {},
   "outputs": [],
   "source": [
    "#removes all websites and replaces them with the text 'web-url'\n",
    "pattern_url = r'http[s]?://(?:[A-Za-z]|[0-9]|[$-_@.&+]|[!*\\(\\),]|(?:%[0-9A-Fa-f][0-9A-Fa-f]))+'\n",
    "subs_url = r'url-web'\n",
    "train['message'] = train['message'].replace(to_replace = pattern_url, value = subs_url, regex = True)\n"
   ]
  },
  {
   "cell_type": "code",
   "execution_count": 13,
   "id": "5f0c4a5a",
   "metadata": {},
   "outputs": [],
   "source": [
    "# Data cleaning \n",
    "def clean_data(texts):\n",
    "\n",
    "        import re\n",
    "        words = list()\n",
    "        for text in texts.split():\n",
    "            \n",
    "            # remove web Urls\n",
    "            \n",
    "            # remove non text character from start and end of string\n",
    "            text = re.sub(r'(^\\W+|\\W+$)','',text)\n",
    "#             # remove multiple white spaces\n",
    "            text = re.sub(r'\\s+','',text)\n",
    "#             #remove non text characters and emojis between texts\n",
    "            text = re.sub(r'\\W+',r'',text)\n",
    "#             #remove white space at the end of strings\n",
    "            text = re.sub(r'\\s+$',r'',text)\n",
    "#             # Remove unwanted symbols\n",
    "            text = re.sub(r'[#,@,$_,?*//\"\"]',r'',text)\n",
    "            words.append(text.lower())\n",
    "            \n",
    "        text = [i for i in words if len(i) > 2]\n",
    "\n",
    "        return \" \".join(text)"
   ]
  },
  {
   "cell_type": "code",
   "execution_count": 14,
   "id": "d22588f8",
   "metadata": {},
   "outputs": [
    {
     "data": {
      "text/html": [
       "<div>\n",
       "<style scoped>\n",
       "    .dataframe tbody tr th:only-of-type {\n",
       "        vertical-align: middle;\n",
       "    }\n",
       "\n",
       "    .dataframe tbody tr th {\n",
       "        vertical-align: top;\n",
       "    }\n",
       "\n",
       "    .dataframe thead th {\n",
       "        text-align: right;\n",
       "    }\n",
       "</style>\n",
       "<table border=\"1\" class=\"dataframe\">\n",
       "  <thead>\n",
       "    <tr style=\"text-align: right;\">\n",
       "      <th></th>\n",
       "      <th>sentiment</th>\n",
       "      <th>message</th>\n",
       "    </tr>\n",
       "  </thead>\n",
       "  <tbody>\n",
       "    <tr>\n",
       "      <th>0</th>\n",
       "      <td>1</td>\n",
       "      <td>PolySciMajor EPA chief doesn't think carbon di...</td>\n",
       "    </tr>\n",
       "    <tr>\n",
       "      <th>1</th>\n",
       "      <td>1</td>\n",
       "      <td>It's not like we lack evidence of anthropogeni...</td>\n",
       "    </tr>\n",
       "    <tr>\n",
       "      <th>2</th>\n",
       "      <td>2</td>\n",
       "      <td>RT @RawStory: Researchers say we have three ye...</td>\n",
       "    </tr>\n",
       "    <tr>\n",
       "      <th>3</th>\n",
       "      <td>1</td>\n",
       "      <td>#TodayinMaker# WIRED : 2016 was a pivotal year...</td>\n",
       "    </tr>\n",
       "    <tr>\n",
       "      <th>4</th>\n",
       "      <td>1</td>\n",
       "      <td>RT @SoyNovioDeTodas: It's 2016, and a racist, ...</td>\n",
       "    </tr>\n",
       "  </tbody>\n",
       "</table>\n",
       "</div>"
      ],
      "text/plain": [
       "   sentiment                                            message\n",
       "0          1  PolySciMajor EPA chief doesn't think carbon di...\n",
       "1          1  It's not like we lack evidence of anthropogeni...\n",
       "2          2  RT @RawStory: Researchers say we have three ye...\n",
       "3          1  #TodayinMaker# WIRED : 2016 was a pivotal year...\n",
       "4          1  RT @SoyNovioDeTodas: It's 2016, and a racist, ..."
      ]
     },
     "execution_count": 14,
     "metadata": {},
     "output_type": "execute_result"
    }
   ],
   "source": [
    "train.head()"
   ]
  },
  {
   "cell_type": "code",
   "execution_count": 15,
   "id": "9a93f797",
   "metadata": {},
   "outputs": [
    {
     "data": {
      "text/html": [
       "<div>\n",
       "<style scoped>\n",
       "    .dataframe tbody tr th:only-of-type {\n",
       "        vertical-align: middle;\n",
       "    }\n",
       "\n",
       "    .dataframe tbody tr th {\n",
       "        vertical-align: top;\n",
       "    }\n",
       "\n",
       "    .dataframe thead th {\n",
       "        text-align: right;\n",
       "    }\n",
       "</style>\n",
       "<table border=\"1\" class=\"dataframe\">\n",
       "  <thead>\n",
       "    <tr style=\"text-align: right;\">\n",
       "      <th></th>\n",
       "      <th>sentiment</th>\n",
       "      <th>message</th>\n",
       "      <th>tweet</th>\n",
       "    </tr>\n",
       "  </thead>\n",
       "  <tbody>\n",
       "    <tr>\n",
       "      <th>0</th>\n",
       "      <td>1</td>\n",
       "      <td>PolySciMajor EPA chief doesn't think carbon di...</td>\n",
       "      <td>polyscimajor epa chief doesnt think carbon dio...</td>\n",
       "    </tr>\n",
       "    <tr>\n",
       "      <th>1</th>\n",
       "      <td>1</td>\n",
       "      <td>It's not like we lack evidence of anthropogeni...</td>\n",
       "      <td>its not like lack evidence anthropogenic globa...</td>\n",
       "    </tr>\n",
       "    <tr>\n",
       "      <th>2</th>\n",
       "      <td>2</td>\n",
       "      <td>RT @RawStory: Researchers say we have three ye...</td>\n",
       "      <td>rawstory researchers say have three years act ...</td>\n",
       "    </tr>\n",
       "    <tr>\n",
       "      <th>3</th>\n",
       "      <td>1</td>\n",
       "      <td>#TodayinMaker# WIRED : 2016 was a pivotal year...</td>\n",
       "      <td>todayinmaker wired 2016 was pivotal year the w...</td>\n",
       "    </tr>\n",
       "    <tr>\n",
       "      <th>4</th>\n",
       "      <td>1</td>\n",
       "      <td>RT @SoyNovioDeTodas: It's 2016, and a racist, ...</td>\n",
       "      <td>soynoviodetodas its 2016 and racist sexist cli...</td>\n",
       "    </tr>\n",
       "  </tbody>\n",
       "</table>\n",
       "</div>"
      ],
      "text/plain": [
       "   sentiment                                            message  \\\n",
       "0          1  PolySciMajor EPA chief doesn't think carbon di...   \n",
       "1          1  It's not like we lack evidence of anthropogeni...   \n",
       "2          2  RT @RawStory: Researchers say we have three ye...   \n",
       "3          1  #TodayinMaker# WIRED : 2016 was a pivotal year...   \n",
       "4          1  RT @SoyNovioDeTodas: It's 2016, and a racist, ...   \n",
       "\n",
       "                                               tweet  \n",
       "0  polyscimajor epa chief doesnt think carbon dio...  \n",
       "1  its not like lack evidence anthropogenic globa...  \n",
       "2  rawstory researchers say have three years act ...  \n",
       "3  todayinmaker wired 2016 was pivotal year the w...  \n",
       "4  soynoviodetodas its 2016 and racist sexist cli...  "
      ]
     },
     "execution_count": 15,
     "metadata": {},
     "output_type": "execute_result"
    }
   ],
   "source": [
    "train['tweet'] = train['message'].apply(clean_data)\n",
    "train.head()\n"
   ]
  },
  {
   "cell_type": "code",
   "execution_count": 16,
   "id": "8f1e37ed",
   "metadata": {},
   "outputs": [
    {
     "data": {
      "text/plain": [
       "'chucknellis the climate change scam revealed urlweb'"
      ]
     },
     "execution_count": 16,
     "metadata": {},
     "output_type": "execute_result"
    }
   ],
   "source": [
    "train.tweet[1500]"
   ]
  },
  {
   "cell_type": "code",
   "execution_count": 17,
   "id": "11b834f7",
   "metadata": {},
   "outputs": [
    {
     "data": {
      "text/plain": [
       "'RT @ChuckNellis: The climate change SCAM, revealed! url-web'"
      ]
     },
     "execution_count": 17,
     "metadata": {},
     "output_type": "execute_result"
    }
   ],
   "source": [
    "train.message[1500]"
   ]
  },
  {
   "cell_type": "code",
   "execution_count": 18,
   "id": "c558d5e0",
   "metadata": {},
   "outputs": [
    {
     "data": {
      "text/plain": [
       "\"Was weirdly shamed about talking about global warming in front of my 6 year old. Uh...she's gonna find out lady! 🔥 🌏\""
      ]
     },
     "execution_count": 18,
     "metadata": {},
     "output_type": "execute_result"
    }
   ],
   "source": [
    "train.message[3400]"
   ]
  },
  {
   "cell_type": "code",
   "execution_count": 19,
   "id": "aab4a5fc",
   "metadata": {},
   "outputs": [
    {
     "data": {
      "text/plain": [
       "'was weirdly shamed about talking about global warming front year old uhshes gonna find out lady'"
      ]
     },
     "execution_count": 19,
     "metadata": {},
     "output_type": "execute_result"
    }
   ],
   "source": [
    "train.tweet[3400]"
   ]
  },
  {
   "cell_type": "code",
   "execution_count": 20,
   "id": "e1280a41",
   "metadata": {},
   "outputs": [],
   "source": [
    "from nltk.tokenize import word_tokenize, TreebankWordTokenizer\n",
    "tokeniser = TreebankWordTokenizer()\n",
    "train['tokens'] = train['tweet'].apply(tokeniser.tokenize)"
   ]
  },
  {
   "cell_type": "code",
   "execution_count": 21,
   "id": "b187a983",
   "metadata": {},
   "outputs": [],
   "source": [
    "from nltk.stem import WordNetLemmatizer\n",
    "lemmatizer = WordNetLemmatizer()"
   ]
  },
  {
   "cell_type": "code",
   "execution_count": 22,
   "id": "86694758",
   "metadata": {},
   "outputs": [],
   "source": [
    "def extract_lemma(words, lemmatizer):\n",
    "    return ' '.join([lemmatizer.lemmatize(word) for word in words])   "
   ]
  },
  {
   "cell_type": "code",
   "execution_count": 23,
   "id": "1c8b95d0",
   "metadata": {},
   "outputs": [],
   "source": [
    "train['lemma'] = train['tokens'].apply(extract_lemma, args=(lemmatizer, ))"
   ]
  },
  {
   "cell_type": "code",
   "execution_count": 24,
   "id": "9f3f9668",
   "metadata": {},
   "outputs": [
    {
     "data": {
      "text/html": [
       "<div>\n",
       "<style scoped>\n",
       "    .dataframe tbody tr th:only-of-type {\n",
       "        vertical-align: middle;\n",
       "    }\n",
       "\n",
       "    .dataframe tbody tr th {\n",
       "        vertical-align: top;\n",
       "    }\n",
       "\n",
       "    .dataframe thead th {\n",
       "        text-align: right;\n",
       "    }\n",
       "</style>\n",
       "<table border=\"1\" class=\"dataframe\">\n",
       "  <thead>\n",
       "    <tr style=\"text-align: right;\">\n",
       "      <th></th>\n",
       "      <th>sentiment</th>\n",
       "      <th>message</th>\n",
       "      <th>tweet</th>\n",
       "      <th>tokens</th>\n",
       "      <th>lemma</th>\n",
       "    </tr>\n",
       "  </thead>\n",
       "  <tbody>\n",
       "    <tr>\n",
       "      <th>0</th>\n",
       "      <td>1</td>\n",
       "      <td>PolySciMajor EPA chief doesn't think carbon di...</td>\n",
       "      <td>polyscimajor epa chief doesnt think carbon dio...</td>\n",
       "      <td>[polyscimajor, epa, chief, doesnt, think, carb...</td>\n",
       "      <td>polyscimajor epa chief doesnt think carbon dio...</td>\n",
       "    </tr>\n",
       "    <tr>\n",
       "      <th>1</th>\n",
       "      <td>1</td>\n",
       "      <td>It's not like we lack evidence of anthropogeni...</td>\n",
       "      <td>its not like lack evidence anthropogenic globa...</td>\n",
       "      <td>[its, not, like, lack, evidence, anthropogenic...</td>\n",
       "      <td>it not like lack evidence anthropogenic global...</td>\n",
       "    </tr>\n",
       "    <tr>\n",
       "      <th>2</th>\n",
       "      <td>2</td>\n",
       "      <td>RT @RawStory: Researchers say we have three ye...</td>\n",
       "      <td>rawstory researchers say have three years act ...</td>\n",
       "      <td>[rawstory, researchers, say, have, three, year...</td>\n",
       "      <td>rawstory researcher say have three year act cl...</td>\n",
       "    </tr>\n",
       "    <tr>\n",
       "      <th>3</th>\n",
       "      <td>1</td>\n",
       "      <td>#TodayinMaker# WIRED : 2016 was a pivotal year...</td>\n",
       "      <td>todayinmaker wired 2016 was pivotal year the w...</td>\n",
       "      <td>[todayinmaker, wired, 2016, was, pivotal, year...</td>\n",
       "      <td>todayinmaker wired 2016 wa pivotal year the wa...</td>\n",
       "    </tr>\n",
       "    <tr>\n",
       "      <th>4</th>\n",
       "      <td>1</td>\n",
       "      <td>RT @SoyNovioDeTodas: It's 2016, and a racist, ...</td>\n",
       "      <td>soynoviodetodas its 2016 and racist sexist cli...</td>\n",
       "      <td>[soynoviodetodas, its, 2016, and, racist, sexi...</td>\n",
       "      <td>soynoviodetodas it 2016 and racist sexist clim...</td>\n",
       "    </tr>\n",
       "  </tbody>\n",
       "</table>\n",
       "</div>"
      ],
      "text/plain": [
       "   sentiment                                            message  \\\n",
       "0          1  PolySciMajor EPA chief doesn't think carbon di...   \n",
       "1          1  It's not like we lack evidence of anthropogeni...   \n",
       "2          2  RT @RawStory: Researchers say we have three ye...   \n",
       "3          1  #TodayinMaker# WIRED : 2016 was a pivotal year...   \n",
       "4          1  RT @SoyNovioDeTodas: It's 2016, and a racist, ...   \n",
       "\n",
       "                                               tweet  \\\n",
       "0  polyscimajor epa chief doesnt think carbon dio...   \n",
       "1  its not like lack evidence anthropogenic globa...   \n",
       "2  rawstory researchers say have three years act ...   \n",
       "3  todayinmaker wired 2016 was pivotal year the w...   \n",
       "4  soynoviodetodas its 2016 and racist sexist cli...   \n",
       "\n",
       "                                              tokens  \\\n",
       "0  [polyscimajor, epa, chief, doesnt, think, carb...   \n",
       "1  [its, not, like, lack, evidence, anthropogenic...   \n",
       "2  [rawstory, researchers, say, have, three, year...   \n",
       "3  [todayinmaker, wired, 2016, was, pivotal, year...   \n",
       "4  [soynoviodetodas, its, 2016, and, racist, sexi...   \n",
       "\n",
       "                                               lemma  \n",
       "0  polyscimajor epa chief doesnt think carbon dio...  \n",
       "1  it not like lack evidence anthropogenic global...  \n",
       "2  rawstory researcher say have three year act cl...  \n",
       "3  todayinmaker wired 2016 wa pivotal year the wa...  \n",
       "4  soynoviodetodas it 2016 and racist sexist clim...  "
      ]
     },
     "execution_count": 24,
     "metadata": {},
     "output_type": "execute_result"
    }
   ],
   "source": [
    "train.head()"
   ]
  },
  {
   "cell_type": "code",
   "execution_count": 25,
   "id": "dcd92394",
   "metadata": {},
   "outputs": [],
   "source": [
    "from sklearn.feature_extraction.text import CountVectorizer"
   ]
  },
  {
   "cell_type": "code",
   "execution_count": 26,
   "id": "562c94b4",
   "metadata": {},
   "outputs": [
    {
     "data": {
      "text/plain": [
       "<15819x22769 sparse matrix of type '<class 'numpy.int64'>'\n",
       "\twith 169021 stored elements in Compressed Sparse Row format>"
      ]
     },
     "execution_count": 26,
     "metadata": {},
     "output_type": "execute_result"
    }
   ],
   "source": [
    "vect = CountVectorizer(stop_words='english',analyzer='word', ngram_range=(1, 1))\n",
    "X = vect.fit_transform(train['lemma'].values.astype(str))\n",
    "X"
   ]
  },
  {
   "cell_type": "code",
   "execution_count": 27,
   "id": "c582f7ef",
   "metadata": {},
   "outputs": [],
   "source": [
    "my_dict = vect.vocabulary_"
   ]
  },
  {
   "cell_type": "code",
   "execution_count": 28,
   "id": "55a1b5cc",
   "metadata": {},
   "outputs": [
    {
     "data": {
      "text/plain": [
       "259202296"
      ]
     },
     "execution_count": 28,
     "metadata": {},
     "output_type": "execute_result"
    }
   ],
   "source": [
    "total = sum([v for v in my_dict.values()])\n",
    "total"
   ]
  },
  {
   "cell_type": "code",
   "execution_count": 29,
   "id": "5bc31e20",
   "metadata": {},
   "outputs": [],
   "source": [
    "y = train[\"sentiment\"]"
   ]
  },
  {
   "cell_type": "code",
   "execution_count": 30,
   "id": "fc25a421",
   "metadata": {},
   "outputs": [],
   "source": [
    "from sklearn.ensemble import RandomForestClassifier"
   ]
  },
  {
   "cell_type": "code",
   "execution_count": 31,
   "id": "ef350e3c",
   "metadata": {},
   "outputs": [],
   "source": [
    "X_train, X_test, y_train, y_test = train_test_split(X, y, test_size=0.2, random_state=27)"
   ]
  },
  {
   "cell_type": "code",
   "execution_count": 32,
   "id": "04f7362a",
   "metadata": {},
   "outputs": [
    {
     "data": {
      "text/plain": [
       "RandomForestClassifier(random_state=42)"
      ]
     },
     "execution_count": 32,
     "metadata": {},
     "output_type": "execute_result"
    }
   ],
   "source": [
    "forest = RandomForestClassifier(n_estimators=100, random_state=42)\n",
    "forest.fit(X_train, y_train)"
   ]
  },
  {
   "cell_type": "code",
   "execution_count": 33,
   "id": "f59ea469",
   "metadata": {},
   "outputs": [],
   "source": [
    "pred = forest.predict(X_test)"
   ]
  },
  {
   "cell_type": "code",
   "execution_count": 34,
   "id": "47a40659",
   "metadata": {},
   "outputs": [],
   "source": [
    "from sklearn.metrics import f1_score\n",
    "f1 = f1_score(y_test, pred, average = 'weighted')"
   ]
  },
  {
   "cell_type": "code",
   "execution_count": 35,
   "id": "a6605363",
   "metadata": {},
   "outputs": [
    {
     "data": {
      "text/plain": [
       "0.6947483876490883"
      ]
     },
     "execution_count": 35,
     "metadata": {},
     "output_type": "execute_result"
    }
   ],
   "source": [
    "f1"
   ]
  },
  {
   "cell_type": "code",
   "execution_count": 36,
   "id": "7223495c",
   "metadata": {},
   "outputs": [
    {
     "data": {
      "text/html": [
       "<div>\n",
       "<style scoped>\n",
       "    .dataframe tbody tr th:only-of-type {\n",
       "        vertical-align: middle;\n",
       "    }\n",
       "\n",
       "    .dataframe tbody tr th {\n",
       "        vertical-align: top;\n",
       "    }\n",
       "\n",
       "    .dataframe thead th {\n",
       "        text-align: right;\n",
       "    }\n",
       "</style>\n",
       "<table border=\"1\" class=\"dataframe\">\n",
       "  <thead>\n",
       "    <tr style=\"text-align: right;\">\n",
       "      <th></th>\n",
       "      <th>message</th>\n",
       "      <th>tweetid</th>\n",
       "    </tr>\n",
       "  </thead>\n",
       "  <tbody>\n",
       "    <tr>\n",
       "      <th>0</th>\n",
       "      <td>Europe will now be looking to China to make su...</td>\n",
       "      <td>169760</td>\n",
       "    </tr>\n",
       "    <tr>\n",
       "      <th>1</th>\n",
       "      <td>Combine this with the polling of staffers re c...</td>\n",
       "      <td>35326</td>\n",
       "    </tr>\n",
       "    <tr>\n",
       "      <th>2</th>\n",
       "      <td>The scary, unimpeachable evidence that climate...</td>\n",
       "      <td>224985</td>\n",
       "    </tr>\n",
       "    <tr>\n",
       "      <th>3</th>\n",
       "      <td>@Karoli @morgfair @OsborneInk @dailykos \\r\\nPu...</td>\n",
       "      <td>476263</td>\n",
       "    </tr>\n",
       "    <tr>\n",
       "      <th>4</th>\n",
       "      <td>RT @FakeWillMoore: 'Female orgasms cause globa...</td>\n",
       "      <td>872928</td>\n",
       "    </tr>\n",
       "    <tr>\n",
       "      <th>...</th>\n",
       "      <td>...</td>\n",
       "      <td>...</td>\n",
       "    </tr>\n",
       "    <tr>\n",
       "      <th>10541</th>\n",
       "      <td>RT @BrittanyBohrer: Brb, writing a poem about ...</td>\n",
       "      <td>895714</td>\n",
       "    </tr>\n",
       "    <tr>\n",
       "      <th>10542</th>\n",
       "      <td>2016: the year climate change came home: Durin...</td>\n",
       "      <td>875167</td>\n",
       "    </tr>\n",
       "    <tr>\n",
       "      <th>10543</th>\n",
       "      <td>RT @loop_vanuatu: Pacific countries positive a...</td>\n",
       "      <td>78329</td>\n",
       "    </tr>\n",
       "    <tr>\n",
       "      <th>10544</th>\n",
       "      <td>RT @xanria_00018: You’re so hot, you must be t...</td>\n",
       "      <td>867455</td>\n",
       "    </tr>\n",
       "    <tr>\n",
       "      <th>10545</th>\n",
       "      <td>RT @chloebalaoing: climate change is a global ...</td>\n",
       "      <td>470892</td>\n",
       "    </tr>\n",
       "  </tbody>\n",
       "</table>\n",
       "<p>10546 rows × 2 columns</p>\n",
       "</div>"
      ],
      "text/plain": [
       "                                                 message  tweetid\n",
       "0      Europe will now be looking to China to make su...   169760\n",
       "1      Combine this with the polling of staffers re c...    35326\n",
       "2      The scary, unimpeachable evidence that climate...   224985\n",
       "3      @Karoli @morgfair @OsborneInk @dailykos \\r\\nPu...   476263\n",
       "4      RT @FakeWillMoore: 'Female orgasms cause globa...   872928\n",
       "...                                                  ...      ...\n",
       "10541  RT @BrittanyBohrer: Brb, writing a poem about ...   895714\n",
       "10542  2016: the year climate change came home: Durin...   875167\n",
       "10543  RT @loop_vanuatu: Pacific countries positive a...    78329\n",
       "10544  RT @xanria_00018: You’re so hot, you must be t...   867455\n",
       "10545  RT @chloebalaoing: climate change is a global ...   470892\n",
       "\n",
       "[10546 rows x 2 columns]"
      ]
     },
     "execution_count": 36,
     "metadata": {},
     "output_type": "execute_result"
    }
   ],
   "source": [
    "test = pd.read_csv('test.csv')\n",
    "test"
   ]
  },
  {
   "cell_type": "code",
   "execution_count": 37,
   "id": "45b5e630",
   "metadata": {},
   "outputs": [],
   "source": [
    "#removes all websites and replaces them with the text 'web-url'\n",
    "pattern_url = r'http[s]?://(?:[A-Za-z]|[0-9]|[$-_@.&+]|[!*\\(\\),]|(?:%[0-9A-Fa-f][0-9A-Fa-f]))+'\n",
    "subs_url = r'url-web'\n",
    "test['message'] = test['message'].replace(to_replace = pattern_url, value = subs_url, regex = True)\n"
   ]
  },
  {
   "cell_type": "code",
   "execution_count": 38,
   "id": "a0c16784",
   "metadata": {},
   "outputs": [
    {
     "data": {
      "text/html": [
       "<div>\n",
       "<style scoped>\n",
       "    .dataframe tbody tr th:only-of-type {\n",
       "        vertical-align: middle;\n",
       "    }\n",
       "\n",
       "    .dataframe tbody tr th {\n",
       "        vertical-align: top;\n",
       "    }\n",
       "\n",
       "    .dataframe thead th {\n",
       "        text-align: right;\n",
       "    }\n",
       "</style>\n",
       "<table border=\"1\" class=\"dataframe\">\n",
       "  <thead>\n",
       "    <tr style=\"text-align: right;\">\n",
       "      <th></th>\n",
       "      <th>message</th>\n",
       "      <th>tweetid</th>\n",
       "      <th>tweet</th>\n",
       "    </tr>\n",
       "  </thead>\n",
       "  <tbody>\n",
       "    <tr>\n",
       "      <th>0</th>\n",
       "      <td>Europe will now be looking to China to make su...</td>\n",
       "      <td>169760</td>\n",
       "      <td>europe will now looking china make sure that n...</td>\n",
       "    </tr>\n",
       "    <tr>\n",
       "      <th>1</th>\n",
       "      <td>Combine this with the polling of staffers re c...</td>\n",
       "      <td>35326</td>\n",
       "      <td>combine this with the polling staffers climate...</td>\n",
       "    </tr>\n",
       "    <tr>\n",
       "      <th>2</th>\n",
       "      <td>The scary, unimpeachable evidence that climate...</td>\n",
       "      <td>224985</td>\n",
       "      <td>the scary unimpeachable evidence that climate ...</td>\n",
       "    </tr>\n",
       "    <tr>\n",
       "      <th>3</th>\n",
       "      <td>@Karoli @morgfair @OsborneInk @dailykos \\r\\nPu...</td>\n",
       "      <td>476263</td>\n",
       "      <td>karoli morgfair osborneink dailykos putin got ...</td>\n",
       "    </tr>\n",
       "    <tr>\n",
       "      <th>4</th>\n",
       "      <td>RT @FakeWillMoore: 'Female orgasms cause globa...</td>\n",
       "      <td>872928</td>\n",
       "      <td>fakewillmoore female orgasms cause global warm...</td>\n",
       "    </tr>\n",
       "  </tbody>\n",
       "</table>\n",
       "</div>"
      ],
      "text/plain": [
       "                                             message  tweetid  \\\n",
       "0  Europe will now be looking to China to make su...   169760   \n",
       "1  Combine this with the polling of staffers re c...    35326   \n",
       "2  The scary, unimpeachable evidence that climate...   224985   \n",
       "3  @Karoli @morgfair @OsborneInk @dailykos \\r\\nPu...   476263   \n",
       "4  RT @FakeWillMoore: 'Female orgasms cause globa...   872928   \n",
       "\n",
       "                                               tweet  \n",
       "0  europe will now looking china make sure that n...  \n",
       "1  combine this with the polling staffers climate...  \n",
       "2  the scary unimpeachable evidence that climate ...  \n",
       "3  karoli morgfair osborneink dailykos putin got ...  \n",
       "4  fakewillmoore female orgasms cause global warm...  "
      ]
     },
     "execution_count": 38,
     "metadata": {},
     "output_type": "execute_result"
    }
   ],
   "source": [
    "test['tweet'] = test['message'].apply(clean_data)\n",
    "test.head()"
   ]
  },
  {
   "cell_type": "code",
   "execution_count": 39,
   "id": "3fa78dd0",
   "metadata": {},
   "outputs": [],
   "source": [
    "test['tokens'] = test['tweet'].apply(tokeniser.tokenize)"
   ]
  },
  {
   "cell_type": "code",
   "execution_count": 40,
   "id": "b23d0e8f",
   "metadata": {},
   "outputs": [],
   "source": [
    "test['lemma'] = test['tokens'].apply(extract_lemma, args=(lemmatizer, ))"
   ]
  },
  {
   "cell_type": "code",
   "execution_count": 41,
   "id": "8b3c83ab",
   "metadata": {},
   "outputs": [],
   "source": [
    "test_X = vect.transform(test['lemma'].values.astype(str))"
   ]
  },
  {
   "cell_type": "code",
   "execution_count": 42,
   "id": "d2aaa899",
   "metadata": {},
   "outputs": [
    {
     "data": {
      "text/plain": [
       "10546"
      ]
     },
     "execution_count": 42,
     "metadata": {},
     "output_type": "execute_result"
    }
   ],
   "source": [
    "y_pred = forest.predict(test_X)\n",
    "len(y_pred)"
   ]
  },
  {
   "cell_type": "code",
   "execution_count": 43,
   "id": "60c8d2ad",
   "metadata": {},
   "outputs": [
    {
     "name": "stderr",
     "output_type": "stream",
     "text": [
      "<ipython-input-43-73614b45831f>:2: SettingWithCopyWarning: \n",
      "A value is trying to be set on a copy of a slice from a DataFrame.\n",
      "Try using .loc[row_indexer,col_indexer] = value instead\n",
      "\n",
      "See the caveats in the documentation: https://pandas.pydata.org/pandas-docs/stable/user_guide/indexing.html#returning-a-view-versus-a-copy\n",
      "  test['sentiment'] = y_pred\n"
     ]
    }
   ],
   "source": [
    "test = test[['tweetid']]\n",
    "test['sentiment'] = y_pred\n"
   ]
  },
  {
   "cell_type": "code",
   "execution_count": 44,
   "id": "d8b225a5",
   "metadata": {},
   "outputs": [
    {
     "data": {
      "text/plain": [
       "0        169760\n",
       "1         35326\n",
       "2        224985\n",
       "3        476263\n",
       "4        872928\n",
       "          ...  \n",
       "10541    895714\n",
       "10542    875167\n",
       "10543     78329\n",
       "10544    867455\n",
       "10545    470892\n",
       "Name: tweetid, Length: 10546, dtype: int64"
      ]
     },
     "execution_count": 44,
     "metadata": {},
     "output_type": "execute_result"
    }
   ],
   "source": [
    "tweet = test['tweetid'] \n",
    "tweet"
   ]
  },
  {
   "cell_type": "code",
   "execution_count": 45,
   "id": "761ab4b4",
   "metadata": {},
   "outputs": [
    {
     "data": {
      "text/html": [
       "<div>\n",
       "<style scoped>\n",
       "    .dataframe tbody tr th:only-of-type {\n",
       "        vertical-align: middle;\n",
       "    }\n",
       "\n",
       "    .dataframe tbody tr th {\n",
       "        vertical-align: top;\n",
       "    }\n",
       "\n",
       "    .dataframe thead th {\n",
       "        text-align: right;\n",
       "    }\n",
       "</style>\n",
       "<table border=\"1\" class=\"dataframe\">\n",
       "  <thead>\n",
       "    <tr style=\"text-align: right;\">\n",
       "      <th></th>\n",
       "      <th>tweetid</th>\n",
       "      <th>sentiment</th>\n",
       "    </tr>\n",
       "  </thead>\n",
       "  <tbody>\n",
       "    <tr>\n",
       "      <th>0</th>\n",
       "      <td>169760</td>\n",
       "      <td>2</td>\n",
       "    </tr>\n",
       "    <tr>\n",
       "      <th>1</th>\n",
       "      <td>35326</td>\n",
       "      <td>1</td>\n",
       "    </tr>\n",
       "    <tr>\n",
       "      <th>2</th>\n",
       "      <td>224985</td>\n",
       "      <td>1</td>\n",
       "    </tr>\n",
       "    <tr>\n",
       "      <th>3</th>\n",
       "      <td>476263</td>\n",
       "      <td>1</td>\n",
       "    </tr>\n",
       "    <tr>\n",
       "      <th>4</th>\n",
       "      <td>872928</td>\n",
       "      <td>0</td>\n",
       "    </tr>\n",
       "  </tbody>\n",
       "</table>\n",
       "</div>"
      ],
      "text/plain": [
       "   tweetid  sentiment\n",
       "0   169760          2\n",
       "1    35326          1\n",
       "2   224985          1\n",
       "3   476263          1\n",
       "4   872928          0"
      ]
     },
     "execution_count": 45,
     "metadata": {},
     "output_type": "execute_result"
    }
   ],
   "source": [
    "sub_df = pd.DataFrame(list(zip(tweet,  y_pred)), columns = ['tweetid', 'sentiment'])\n",
    "sub_df.head()"
   ]
  },
  {
   "cell_type": "code",
   "execution_count": 46,
   "id": "36b68862",
   "metadata": {},
   "outputs": [],
   "source": [
    "sub_df.to_csv('sub_rf.csv', index_label = False, index = False)"
   ]
  },
  {
   "cell_type": "code",
   "execution_count": 47,
   "id": "fd65813a",
   "metadata": {},
   "outputs": [
    {
     "data": {
      "text/html": [
       "<div>\n",
       "<style scoped>\n",
       "    .dataframe tbody tr th:only-of-type {\n",
       "        vertical-align: middle;\n",
       "    }\n",
       "\n",
       "    .dataframe tbody tr th {\n",
       "        vertical-align: top;\n",
       "    }\n",
       "\n",
       "    .dataframe thead th {\n",
       "        text-align: right;\n",
       "    }\n",
       "</style>\n",
       "<table border=\"1\" class=\"dataframe\">\n",
       "  <thead>\n",
       "    <tr style=\"text-align: right;\">\n",
       "      <th></th>\n",
       "      <th>tweetid</th>\n",
       "      <th>sentiment</th>\n",
       "    </tr>\n",
       "  </thead>\n",
       "  <tbody>\n",
       "    <tr>\n",
       "      <th>0</th>\n",
       "      <td>169760</td>\n",
       "      <td>2</td>\n",
       "    </tr>\n",
       "    <tr>\n",
       "      <th>1</th>\n",
       "      <td>35326</td>\n",
       "      <td>1</td>\n",
       "    </tr>\n",
       "    <tr>\n",
       "      <th>2</th>\n",
       "      <td>224985</td>\n",
       "      <td>1</td>\n",
       "    </tr>\n",
       "    <tr>\n",
       "      <th>3</th>\n",
       "      <td>476263</td>\n",
       "      <td>1</td>\n",
       "    </tr>\n",
       "    <tr>\n",
       "      <th>4</th>\n",
       "      <td>872928</td>\n",
       "      <td>0</td>\n",
       "    </tr>\n",
       "    <tr>\n",
       "      <th>...</th>\n",
       "      <td>...</td>\n",
       "      <td>...</td>\n",
       "    </tr>\n",
       "    <tr>\n",
       "      <th>10541</th>\n",
       "      <td>895714</td>\n",
       "      <td>1</td>\n",
       "    </tr>\n",
       "    <tr>\n",
       "      <th>10542</th>\n",
       "      <td>875167</td>\n",
       "      <td>1</td>\n",
       "    </tr>\n",
       "    <tr>\n",
       "      <th>10543</th>\n",
       "      <td>78329</td>\n",
       "      <td>2</td>\n",
       "    </tr>\n",
       "    <tr>\n",
       "      <th>10544</th>\n",
       "      <td>867455</td>\n",
       "      <td>0</td>\n",
       "    </tr>\n",
       "    <tr>\n",
       "      <th>10545</th>\n",
       "      <td>470892</td>\n",
       "      <td>1</td>\n",
       "    </tr>\n",
       "  </tbody>\n",
       "</table>\n",
       "<p>10546 rows × 2 columns</p>\n",
       "</div>"
      ],
      "text/plain": [
       "       tweetid  sentiment\n",
       "0       169760          2\n",
       "1        35326          1\n",
       "2       224985          1\n",
       "3       476263          1\n",
       "4       872928          0\n",
       "...        ...        ...\n",
       "10541   895714          1\n",
       "10542   875167          1\n",
       "10543    78329          2\n",
       "10544   867455          0\n",
       "10545   470892          1\n",
       "\n",
       "[10546 rows x 2 columns]"
      ]
     },
     "execution_count": 47,
     "metadata": {},
     "output_type": "execute_result"
    }
   ],
   "source": [
    "sub_df"
   ]
  },
  {
   "cell_type": "code",
   "execution_count": 48,
   "id": "3ca0ef87",
   "metadata": {},
   "outputs": [],
   "source": [
    "#Data preprocessing"
   ]
  },
  {
   "cell_type": "code",
   "execution_count": 49,
   "id": "c591f9d9",
   "metadata": {},
   "outputs": [],
   "source": [
    "# Determine our Label"
   ]
  },
  {
   "cell_type": "code",
   "execution_count": 50,
   "id": "ae15ee54",
   "metadata": {},
   "outputs": [],
   "source": [
    "# Split Data (into Training & Test)"
   ]
  },
  {
   "cell_type": "markdown",
   "id": "d8617a3d",
   "metadata": {},
   "source": [
    " <a id=\"four\"></a>\n",
    "## 4. Feature Engineering\n",
    "<a href=#cont>Back to Table of Contents</a>"
   ]
  },
  {
   "cell_type": "code",
   "execution_count": null,
   "id": "59d40a70",
   "metadata": {},
   "outputs": [],
   "source": [
    "# Extraxt features to help predict the label \n",
    "# Bag-of-words vectors built into sklearn"
   ]
  },
  {
   "cell_type": "markdown",
   "id": "a15c90ed",
   "metadata": {},
   "source": [
    " <a id=\"five\"></a>\n",
    "## 5. Modeling\n",
    "<a href=#cont>Back to Table of Contents</a>"
   ]
  },
  {
   "cell_type": "code",
   "execution_count": null,
   "id": "83e8ff5c",
   "metadata": {},
   "outputs": [],
   "source": []
  },
  {
   "cell_type": "code",
   "execution_count": null,
   "id": "cf5e3583",
   "metadata": {},
   "outputs": [],
   "source": []
  },
  {
   "cell_type": "markdown",
   "id": "b78448ec",
   "metadata": {},
   "source": [
    " <a id=\"six\"></a>\n",
    "## 6. Model Performance\n",
    "<a href=#cont>Back to Table of Contents</a>"
   ]
  },
  {
   "cell_type": "code",
   "execution_count": null,
   "id": "6e047f2a",
   "metadata": {},
   "outputs": [],
   "source": [
    "# Evaluate trained model using the test set"
   ]
  },
  {
   "cell_type": "code",
   "execution_count": null,
   "id": "456056db",
   "metadata": {},
   "outputs": [],
   "source": []
  },
  {
   "cell_type": "markdown",
   "id": "c220e006",
   "metadata": {},
   "source": [
    " <a id=\"seven\"></a>\n",
    "## 7. Model Explanations\n",
    "<a href=#cont>Back to Table of Contents</a>"
   ]
  },
  {
   "cell_type": "code",
   "execution_count": null,
   "id": "c3af7c39",
   "metadata": {},
   "outputs": [],
   "source": []
  }
 ],
 "metadata": {
  "kernelspec": {
   "display_name": "Python 3",
   "language": "python",
   "name": "python3"
  },
  "language_info": {
   "codemirror_mode": {
    "name": "ipython",
    "version": 3
   },
   "file_extension": ".py",
   "mimetype": "text/x-python",
   "name": "python",
   "nbconvert_exporter": "python",
   "pygments_lexer": "ipython3",
   "version": "3.8.8"
  }
 },
 "nbformat": 4,
 "nbformat_minor": 5
}
